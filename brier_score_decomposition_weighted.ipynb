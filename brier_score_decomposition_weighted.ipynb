{
 "cells": [
  {
   "cell_type": "code",
   "execution_count": 57,
   "metadata": {
    "collapsed": true
   },
   "outputs": [],
   "source": [
    "import xarray as xr\n",
    "import pandas as pd\n",
    "import matplotlib.pyplot as plt\n",
    "import numpy as np\n",
    "from glob import glob\n",
    "from ens_util import *\n",
    "from math import isnan\n",
    "from sklearn.calibration import calibration_curve\n",
    "plt.rcParams['figure.figsize'] = [12,12]"
   ]
  },
  {
   "cell_type": "code",
   "execution_count": 2,
   "metadata": {
    "collapsed": true
   },
   "outputs": [],
   "source": [
    "data_files = glob('data_crop*.nc')\n",
    "res_files = glob('2014*Z_crs_gauss.nc')\n",
    "coordx = [258,260]\n",
    "coordy = [63,65]\n",
    "thresh = 0.2\n",
    "data = build_datadf(data_files,coordx,coordy)\n",
    "(fr15,fr30,fr45,fr60) = build_weighted_fractions(res_files,data.index,data.columns,coordx,coordy,thresh)\n",
    "fr = [fr15,fr30,fr45,fr60]"
   ]
  },
  {
   "cell_type": "code",
   "execution_count": 3,
   "metadata": {
    "collapsed": true
   },
   "outputs": [],
   "source": [
    "index_dates = data.index.date\n",
    "index_dates_unique = np.unique(index_dates)\n",
    "index_times = data.index\n",
    "bs15 = pd.DataFrame(index=index_dates_unique,columns=data.columns)\n",
    "bs30 = pd.DataFrame(index=index_dates_unique,columns=data.columns)\n",
    "bs45 = pd.DataFrame(index=index_dates_unique,columns=data.columns)\n",
    "bs60 = pd.DataFrame(index=index_dates_unique,columns=data.columns)\n",
    "bs = [bs15,bs30,bs45,bs60]"
   ]
  },
  {
   "cell_type": "code",
   "execution_count": 74,
   "metadata": {},
   "outputs": [
    {
     "name": "stdout",
     "output_type": "stream",
     "text": [
      "                            0         1\n",
      "2014-04-02 16:30:00  0.035458  0.021084\n",
      "2014-04-02 16:45:00  0.028111  0.030864\n",
      "2014-04-02 17:00:00  0.025902  0.028544\n",
      "2014-04-02 17:15:00  0.036538  0.029718\n",
      "2014-04-02 17:30:00  0.037920  0.038255\n",
      "2014-04-02 17:45:00  0.064618  0.055072\n",
      "2014-04-02 18:00:00  0.131268  0.109426\n",
      "2014-04-02 18:30:00  0.100755  0.112721\n",
      "2014-04-02 18:45:00  0.128212  0.104692\n",
      "2014-04-02 19:00:00  0.065097  0.070947\n",
      "2014-04-02 19:15:00  0.096423  0.093866\n",
      "2014-04-02 19:30:00  0.138886  0.102686\n",
      "2014-04-02 19:45:00  0.132562  0.142320\n",
      "2014-04-02 20:00:00  0.188426  0.182554\n",
      "2014-04-02 20:15:00  0.121973  0.138402\n",
      "2014-04-02 20:30:00  0.118844  0.062224\n",
      "2014-04-02 21:00:00  0.086646  0.082583\n",
      "2014-04-02 21:30:00  0.080011  0.079279\n",
      "2014-04-02 21:45:00  0.087090  0.086479\n",
      "2014-04-02 22:00:00  0.099160  0.126302\n",
      "2014-04-02 22:15:00  0.072448  0.076457\n",
      "2014-04-02 22:30:00  0.076665  0.061948\n",
      "2014-04-05 16:30:00  0.029432  0.032695\n",
      "2014-04-05 16:45:00  0.022728  0.022373\n",
      "2014-04-05 17:00:00  0.020931  0.023758\n",
      "2014-04-05 17:15:00  0.025626  0.028179\n",
      "2014-04-05 17:30:00  0.039284  0.013938\n",
      "2014-04-05 17:45:00  0.028723  0.025788\n",
      "2014-04-05 18:00:00  0.028547  0.023795\n",
      "2014-04-05 18:30:00  0.023460  0.035011\n",
      "...                       ...       ...\n",
      "2014-06-19 20:15:00 -0.002021  0.027204\n",
      "2014-06-19 20:30:00  0.064360  0.195980\n",
      "2014-06-19 21:00:00 -0.001293  0.092418\n",
      "2014-06-19 21:30:00 -0.008629  0.008852\n",
      "2014-06-19 21:45:00  0.017543  0.004876\n",
      "2014-06-19 22:00:00 -0.094777 -0.120162\n",
      "2014-06-19 22:15:00 -0.003474 -0.010982\n",
      "2014-06-19 22:30:00  0.006350 -0.005834\n",
      "2014-06-22 16:30:00  0.002510 -0.008218\n",
      "2014-06-22 16:45:00 -0.003044  0.003412\n",
      "2014-06-22 17:00:00  0.003640 -0.009527\n",
      "2014-06-22 17:15:00 -0.001359 -0.011330\n",
      "2014-06-22 17:30:00 -0.000554 -0.006058\n",
      "2014-06-22 17:45:00  0.000307 -0.009192\n",
      "2014-06-22 18:00:00 -0.001269 -0.001608\n",
      "2014-06-22 18:30:00 -0.006664 -0.004395\n",
      "2014-06-22 18:45:00 -0.001393 -0.003394\n",
      "2014-06-22 19:00:00 -0.005591 -0.009339\n",
      "2014-06-22 19:15:00 -0.000400 -0.012498\n",
      "2014-06-22 19:30:00 -0.012797  0.003102\n",
      "2014-06-22 19:45:00 -0.006345  0.002500\n",
      "2014-06-22 20:00:00 -0.017065 -0.008568\n",
      "2014-06-22 20:15:00 -0.015103  0.001839\n",
      "2014-06-22 20:30:00 -0.009801  0.000523\n",
      "2014-06-22 21:00:00 -0.007073  0.000951\n",
      "2014-06-22 21:30:00 -0.011985 -0.011579\n",
      "2014-06-22 21:45:00 -0.004423  0.001450\n",
      "2014-06-22 22:00:00 -0.015550  0.003131\n",
      "2014-06-22 22:15:00 -0.007475 -0.011620\n",
      "2014-06-22 22:30:00 -0.012048 -0.006566\n",
      "\n",
      "[840 rows x 2 columns]\n"
     ]
    }
   ],
   "source": [
    "#Better way to do the brier score calculations\n",
    "\n",
    "data_bin = data.mask(data<thresh,other=1)\n",
    "data_bin = data_bin.mask(data_bin!=1.0,other=0)\n",
    "\n",
    "for c in data.columns:\n",
    "    for d in index_dates_unique:\n",
    "        times = index_times[np.where(index_dates==d)]\n",
    "        sat = data_bin.loc[times,[c]]\n",
    "        for f in range(4):\n",
    "            frac = fr[f].loc[times,[c]]\n",
    "            bs_vals = ((frac-sat)**2).values[:,0].astype(np.float)\n",
    "            valid = np.where(np.invert(np.isnan(bs_vals)))\n",
    "            bs[f].at[d,c] = np.sum(bs_vals[valid])/len(bs_vals[valid])"
   ]
  },
  {
   "cell_type": "code",
   "execution_count": 5,
   "metadata": {},
   "outputs": [
    {
     "name": "stdout",
     "output_type": "stream",
     "text": [
      "[1.60000000e-01 0.00000000e+00 0.00000000e+00 0.00000000e+00\n",
      " 0.00000000e+00 0.00000000e+00 0.00000000e+00 0.00000000e+00\n",
      " 1.25314633e-05 1.07480330e-02 8.46513614e-02 5.97397650e-03\n",
      " 1.04565039e-01 2.49281880e-08 0.00000000e+00 0.00000000e+00\n",
      " 0.00000000e+00 0.00000000e+00] [1. 1. 1. 1. 1. 1. 1. 1. 1. 1. 1. 1. 1. 1. 1. 1. 1. 1.] [0.6        1.         1.         1.         1.         1.\n",
      " 1.         1.         0.99646002 0.89632728 0.70905093 0.9227085\n",
      " 0.67663482 0.99984211 1.         1.         1.         1.        ]\n"
     ]
    }
   ],
   "source": [
    "#Brier Score decomposition\n",
    "c=0\n",
    "f=0\n",
    "d=index_dates_unique[0]\n",
    "times = index_times[np.where(index_dates==d)]\n",
    "sat = data_bin.loc[times,[c]]\n",
    "frac = fr[f].loc[times,[c]]\n",
    "\n",
    "bs_vals = ((frac-sat)**2).values[:,0].astype(np.float)\n",
    "sat_vals = sat.values[:,0].astype(np.float)\n",
    "frac_vals = frac.values[:,0].astype(np.float)\n",
    "\n",
    "valid = np.where(np.invert(np.isnan(bs_vals)))\n",
    "bs_valid = bs_vals[valid]\n",
    "sat_valid = sat_vals[valid]\n",
    "frac_valid = frac_vals[valid]\n",
    "print(bs_valid,sat_valid,frac_valid)"
   ]
  },
  {
   "cell_type": "code",
   "execution_count": 6,
   "metadata": {},
   "outputs": [
    {
     "name": "stdout",
     "output_type": "stream",
     "text": [
      "0.020330609235287286 0.0 0.0 0.020330609235287286\n"
     ]
    }
   ],
   "source": [
    "# Follows Wilks Ch. 8\n",
    "unique,counts = np.unique(frac_valid,return_counts=True) #counts are N_i values\n",
    "n = np.sum(counts) # n\n",
    "\n",
    "obar_i = np.zeros(len(unique))\n",
    "for j in range(len(unique)):\n",
    "    y = unique[j]\n",
    "    wh = np.where(frac_valid==y)\n",
    "    obar_i[j] = np.sum(sat_valid[wh])/counts[j]\n",
    "\n",
    "obar = np.sum(sat_valid)/n\n",
    "\n",
    "sig = obar*(1-obar)\n",
    "rel = np.sum(np.multiply(counts,(unique-obar_i)**2))/n\n",
    "res = np.sum(np.multiply(counts,(obar_i-obar)**2))/n\n",
    "\n",
    "print(rel,res,sig,rel-res+sig)"
   ]
  },
  {
   "cell_type": "code",
   "execution_count": 112,
   "metadata": {},
   "outputs": [
    {
     "name": "stdout",
     "output_type": "stream",
     "text": [
      "                    rel          res        sig           bs\n",
      "2014-04-02    0.0804296            0          0    0.0804296\n",
      "2014-04-05     0.163764         0.16       0.16     0.163764\n",
      "2014-04-09    0.0126579            0          0    0.0126579\n",
      "2014-04-10   0.00269948            0          0   0.00269948\n",
      "2014-04-11     0.234351     0.222222   0.222222     0.234351\n",
      "2014-04-12     0.445987    0.0812698   0.195556     0.560273\n",
      "2014-04-15    0.0833271     0.115556   0.115556    0.0833271\n",
      "2014-04-18    0.0494497            0          0    0.0494497\n",
      "2014-04-19      0.20143         0.24       0.24      0.20143\n",
      "2014-04-20   0.00161252            0          0   0.00161252\n",
      "2014-04-21  0.000683395            0          0  0.000683395\n",
      "2014-04-22   0.00177875            0          0   0.00177875\n",
      "2014-04-25   0.00798772            0          0   0.00798772\n",
      "2014-04-26     0.233065         0.16       0.16     0.233065\n",
      "2014-05-05   0.00266667            0          0   0.00266667\n",
      "2014-05-06    0.0897446     0.108284   0.177515     0.158975\n",
      "2014-05-07    0.0417947            0          0    0.0417947\n",
      "2014-05-08   0.00536368            0          0   0.00536368\n",
      "2014-05-09    0.0715834    0.0622222  0.0622222    0.0715834\n",
      "2014-05-19  0.000652585            0          0  0.000652585\n",
      "2014-05-20   0.00857567  0.000392465  0.0663265    0.0745097\n",
      "2014-05-21   0.00138966            0          0   0.00138966\n",
      "2014-05-22            0            0          0            0\n",
      "2014-05-23   0.00160714            0          0   0.00160714\n",
      "2014-05-24     0.263983     0.185404   0.236686     0.315265\n",
      "2014-05-25     0.121235     0.115556   0.115556     0.121235\n",
      "2014-05-29    0.0846993     0.130178   0.130178    0.0846993\n",
      "2014-05-30  0.000550839            0          0  0.000550839\n",
      "2014-06-03   0.00150986            0          0   0.00150986\n",
      "2014-06-10    0.0153018   0.00031746  0.0622222    0.0772065\n",
      "2014-06-11     0.184774     0.155556   0.222222     0.251441\n",
      "2014-06-12     0.152936    0.0933596   0.213018     0.272594\n",
      "2014-06-14   0.00148837            0          0   0.00148837\n",
      "2014-06-15     0.136141     0.195556   0.195556     0.136141\n",
      "2014-06-16     0.215616         0.16       0.16     0.215616\n",
      "2014-06-17     0.320359     0.244898   0.244898     0.320359\n",
      "2014-06-18    0.0440864    0.0622222  0.0622222    0.0440864\n",
      "2014-06-19   0.00449628            0          0   0.00449628\n",
      "2014-06-22   0.00478167            0          0   0.00478167\n"
     ]
    }
   ],
   "source": [
    "# would have to create new columns for each coordinate location\n",
    "dec15 = pd.DataFrame(index=index_dates_unique,columns=['rel','res','sig','bs'])\n",
    "dec30 = pd.DataFrame(index=index_dates_unique,columns=['rel','res','sig','bs'])\n",
    "dec45 = pd.DataFrame(index=index_dates_unique,columns=['rel','res','sig','bs'])\n",
    "dec60 = pd.DataFrame(index=index_dates_unique,columns=['rel','res','sig','bs'])\n",
    "dec = [dec15,dec30,dec45,dec60]\n",
    "\n",
    "c=0\n",
    "for d in index_dates_unique:\n",
    "    times = index_times[np.where(index_dates==d)]\n",
    "    sat = data_bin.loc[times,[c]]\n",
    "    for f in range(4):\n",
    "        frac = fr[f].loc[times,[c]]\n",
    "        bs_vals = ((frac-sat)**2).values[:,0].astype(np.float)\n",
    "        sat_vals = sat.values[:,0].astype(np.float)\n",
    "        frac_vals = frac.values[:,0].astype(np.float)\n",
    "        valid = np.where(np.invert(np.isnan(bs_vals)))\n",
    "        bs_valid = bs_vals[valid]\n",
    "        sat_valid = sat_vals[valid]\n",
    "        frac_valid = frac_vals[valid]\n",
    "        \n",
    "        unique,counts = np.unique(frac_valid,return_counts=True)\n",
    "        n = np.sum(counts)\n",
    "        obar_i = np.zeros(len(unique))\n",
    "        for j in range(len(unique)):\n",
    "            y = unique[j]\n",
    "            wh = np.where(frac_valid==y)\n",
    "            obar_i[j] = np.sum(sat_valid[wh])/counts[j]\n",
    "        obar = np.sum(sat_valid)/n\n",
    "\n",
    "        sig = obar*(1-obar)\n",
    "        rel = np.sum(np.multiply(counts,(unique-obar_i)**2))/n\n",
    "        res = np.sum(np.multiply(counts,(obar_i-obar)**2))/n\n",
    "        dec[f].at[d,'rel'] = rel\n",
    "        dec[f].at[d,'res'] = res\n",
    "        dec[f].at[d,'sig'] = sig\n",
    "        dec[f].at[d,'bs'] = rel-res+sig\n",
    "print(dec60)"
   ]
  },
  {
   "cell_type": "code",
   "execution_count": 75,
   "metadata": {
    "collapsed": true
   },
   "outputs": [],
   "source": [
    "avg_ci = [0.07326633937050787,\n",
    " 0.20778712302975885,\n",
    " 0.11192718638706237,\n",
    " 0.06896607381887883,\n",
    " 0.14332269534242617,\n",
    " 0.25472343970477335,\n",
    " 0.04777688933358877,\n",
    " 0.8596485152665307,\n",
    " 0.19564074560864855,\n",
    " 0.06170793115020668,\n",
    " 0.021583633585999476,\n",
    " 0.03259704694624734,\n",
    " 0.03989605709146575,\n",
    " 0.5405269801579695,\n",
    " 0.013546266323385918,\n",
    " 0.06124534490048805,\n",
    " 0.05463109817092926,\n",
    " 0.03606780100144922,\n",
    " 0.0638700738320475,\n",
    " 0.03620355300317931,\n",
    " 0.04244338007354623,\n",
    " 0.009881199632866159,\n",
    " 0.033942529421483604,\n",
    " 0.009342719017178461,\n",
    " 0.05944429052055939,\n",
    " 0.10105394353402507,\n",
    " 0.6654091999523657,\n",
    " 0.0021613105745977136,\n",
    " 0.013400553711767014,\n",
    " 0.017006162006099224,\n",
    " 0.09350540001254598,\n",
    " 0.10001397910002892,\n",
    " 0.006636670686108557,\n",
    " 0.09580385996389294,\n",
    " 0.08552496468202024,\n",
    " 0.16219456934530282,\n",
    " 0.10637936657699525,\n",
    " 0.017298070474985355,\n",
    " 0.0015729371576519585]"
   ]
  },
  {
   "cell_type": "code",
   "execution_count": 113,
   "metadata": {},
   "outputs": [
    {
     "data": {
      "image/png": "[encoded data removed]",
      "text/plain": [
       "<matplotlib.figure.Figure at 0x25c7f822860>"
      ]
     },
     "metadata": {},
     "output_type": "display_data"
    }
   ],
   "source": [
    "plt.rcParams['figure.figsize'] = [12,12]\n",
    "ymin= 0\n",
    "ymax = 0.3\n",
    "rows = 1; cols = 1;\n",
    "\n",
    "x = list(dec15.index)\n",
    "xpos = np.array(range(len(x)))+1\n",
    "width = 0.15\n",
    "dx = width/2\n",
    "\n",
    "fig,ax = plt.subplots(rows,cols)\n",
    "ax.set_ylim([ymin,ymax])\n",
    "ax.set_xlim([0,len(xpos)+1])\n",
    "ax.set_xticks(xpos)\n",
    "ax.set_xticklabels(x,rotation='vertical')\n",
    "\n",
    "ax.bar(xpos-3*dx,dec15.values[:,0],width=width,color='b',label='reliability')\n",
    "ax.bar(xpos-dx,dec15.values[:,1],width=width,color='g',label='resolution')\n",
    "ax.bar(xpos+dx,dec15.values[:,2],width=width,color='r',label='uncertainty')\n",
    "ax.bar(xpos+3*dx,dec15.values[:,3],width=width,color='k',label='brier score')\n",
    "\n",
    "for i in range(1,len(x)+1):\n",
    "    alpha = 0.5*avg_ci[i-1]\n",
    "    ax.fill_between(np.arange(i-0.5,i+0.501,0.1),0,0.3,facecolor='k',alpha=alpha)\n",
    "\n",
    "ax.set_title(\"15 minutes\")\n",
    "\n",
    "#fig.autofmt_xdate()\n",
    "fig.tight_layout()\n",
    "fig.suptitle(\"Brier Score Timeseries\",fontsize=16)\n",
    "fig.subplots_adjust(top=0.92)\n",
    "plt.legend()\n",
    "plt.show()"
   ]
  },
  {
   "cell_type": "code",
   "execution_count": 114,
   "metadata": {},
   "outputs": [
    {
     "data": {
      "image/png": "[encoded data removed]",
      "text/plain": [
       "<matplotlib.figure.Figure at 0x25c098f6ef0>"
      ]
     },
     "metadata": {},
     "output_type": "display_data"
    }
   ],
   "source": [
    "plt.rcParams['figure.figsize'] = [12,18]\n",
    "ymin= 0\n",
    "ymax = 0.4\n",
    "rows = 4; cols = 1;\n",
    "fig,ax = plt.subplots(rows,cols,sharex=True)\n",
    "for r in range(rows):\n",
    "    for c in range(cols):\n",
    "        ax[r].set_ylim([ymin,ymax])\n",
    "        ax[r].set_xlim([0,len(xpos)+1])\n",
    "        ax[r].set_xticks(xpos)\n",
    "        ax[r].set_xticklabels(x,rotation='vertical')\n",
    "        \n",
    "ax[0].bar(xpos-3*dx,dec15.values[:,0],width=width,color='b',label='reliability')\n",
    "ax[0].bar(xpos-dx,dec15.values[:,1],width=width,color='g',label='resolution')\n",
    "ax[0].bar(xpos+dx,dec15.values[:,2],width=width,color='r',label='uncertainty')\n",
    "ax[0].bar(xpos+3*dx,dec15.values[:,3],width=width,color='k',label='brier score')\n",
    "\n",
    "ax[1].bar(xpos-3*dx,dec30.values[:,0],width=width,color='b',label='reliability')\n",
    "ax[1].bar(xpos-dx,dec30.values[:,1],width=width,color='g',label='resolution')\n",
    "ax[1].bar(xpos+dx,dec30.values[:,2],width=width,color='r',label='uncertainty')\n",
    "ax[1].bar(xpos+3*dx,dec30.values[:,3],width=width,color='k',label='brier score')\n",
    "\n",
    "ax[2].bar(xpos-3*dx,dec45.values[:,0],width=width,color='b',label='reliability')\n",
    "ax[2].bar(xpos-dx,dec45.values[:,1],width=width,color='g',label='resolution')\n",
    "ax[2].bar(xpos+dx,dec45.values[:,2],width=width,color='r',label='uncertainty')\n",
    "ax[2].bar(xpos+3*dx,dec45.values[:,3],width=width,color='k',label='brier score')\n",
    "\n",
    "ax[3].bar(xpos-3*dx,dec60.values[:,0],width=width,color='b',label='reliability')\n",
    "ax[3].bar(xpos-dx,dec60.values[:,1],width=width,color='g',label='resolution')\n",
    "ax[3].bar(xpos+dx,dec60.values[:,2],width=width,color='r',label='uncertainty')\n",
    "ax[3].bar(xpos+3*dx,dec60.values[:,3],width=width,color='k',label='brier score')\n",
    "\n",
    "for a in range(4):\n",
    "    for i in range(1,len(x)+1):\n",
    "        alpha = 0.5*avg_ci[i-1]\n",
    "        ax[a].fill_between(np.arange(i-0.5,i+0.501,0.1),0,0.6,facecolor='k',alpha=alpha)\n",
    "\n",
    "ax[0].set_title(\"15 minutes\")\n",
    "ax[1].set_title(\"30 minutes\")\n",
    "ax[2].set_title(\"45 minutes\")\n",
    "ax[3].set_title(\"60 minutes\")\n",
    "\n",
    "ax[0].legend()\n",
    "\n",
    "#fig.autofmt_xdate()\n",
    "fig.tight_layout()\n",
    "fig.suptitle(\"Brier Score Timeseries\",fontsize=16)\n",
    "fig.subplots_adjust(top=0.92)\n",
    "plt.show()"
   ]
  },
  {
   "cell_type": "markdown",
   "metadata": {},
   "source": [
    "4/12, 6/18, 5/24 case studies\n",
    "\n",
    "reference BS can be anything I want\n",
    "\n",
    "compute overall brier score; one long timeseries, not average of individual brier scores.\n",
    "change lines to bar charts, spread out length wise\n",
    "look at adjustments to model statistics\n",
    "\n",
    "do enhanced reliability diagram - read text for reminder.\n",
    "\n",
    "\"climatological\" benchmark? fraction of cloudy/not over the entire timeseries at a single point.\n",
    "Or: do it over the entire grid."
   ]
  },
  {
   "cell_type": "code",
   "execution_count": null,
   "metadata": {
    "collapsed": true
   },
   "outputs": [],
   "source": []
  }
 ],
 "metadata": {
  "kernelspec": {
   "display_name": "Python 3",
   "language": "python",
   "name": "python3"
  },
  "language_info": {
   "codemirror_mode": {
    "name": "ipython",
    "version": 3
   },
   "file_extension": ".py",
   "mimetype": "text/x-python",
   "name": "python",
   "nbconvert_exporter": "python",
   "pygments_lexer": "ipython3",
   "version": "3.6.8"
  }
 },
 "nbformat": 4,
 "nbformat_minor": 2
}
